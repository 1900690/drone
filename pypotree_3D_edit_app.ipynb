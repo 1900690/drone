{
  "nbformat": 4,
  "nbformat_minor": 0,
  "metadata": {
    "colab": {
      "provenance": [],
      "authorship_tag": "ABX9TyOtlM559tIghmMnMuNUaNgw",
      "include_colab_link": true
    },
    "kernelspec": {
      "name": "python3",
      "display_name": "Python 3"
    },
    "language_info": {
      "name": "python"
    }
  },
  "cells": [
    {
      "cell_type": "markdown",
      "metadata": {
        "id": "view-in-github",
        "colab_type": "text"
      },
      "source": [
        "<a href=\"https://colab.research.google.com/github/1900690/drone/blob/main/pypotree_3D_edit_app.ipynb\" target=\"_parent\"><img src=\"https://colab.research.google.com/assets/colab-badge.svg\" alt=\"Open In Colab\"/></a>"
      ]
    },
    {
      "cell_type": "markdown",
      "source": [
        "#波を作ってpypotreeで表示"
      ],
      "metadata": {
        "id": "Qeo4mWYiZDfR"
      }
    },
    {
      "cell_type": "code",
      "source": [
        "!pip install pypotree"
      ],
      "metadata": {
        "colab": {
          "base_uri": "https://localhost:8080/"
        },
        "id": "roIOEENuZbTS",
        "outputId": "cd38347a-e038-48cc-a194-ea2b1c15cfd0"
      },
      "execution_count": 1,
      "outputs": [
        {
          "output_type": "stream",
          "name": "stdout",
          "text": [
            "Collecting pypotree\n",
            "  Downloading pypotree-1.0.5.tar.gz (147 kB)\n",
            "\u001b[2K     \u001b[90m━━━━━━━━━━━━━━━━━━━━━━━━━━━━━━━━━━━━━━━━\u001b[0m \u001b[32m147.7/147.7 kB\u001b[0m \u001b[31m2.9 MB/s\u001b[0m eta \u001b[36m0:00:00\u001b[0m\n",
            "\u001b[?25h  Preparing metadata (setup.py) ... \u001b[?25l\u001b[?25hdone\n",
            "Requirement already satisfied: numpy in /usr/local/lib/python3.10/dist-packages (from pypotree) (1.23.5)\n",
            "Building wheels for collected packages: pypotree\n",
            "  Building wheel for pypotree (setup.py) ... \u001b[?25l\u001b[?25hdone\n",
            "  Created wheel for pypotree: filename=pypotree-1.0.5-py3-none-any.whl size=10299242 sha256=d7655f52322cb20faeaae59f2f5cb86e35e3dacf7108a55aabfef16cb06eeb8e\n",
            "  Stored in directory: /root/.cache/pip/wheels/61/53/c5/9fa90014fa2b468849fcebd5b3bb71f8eda71229e9953a6c5b\n",
            "Successfully built pypotree\n",
            "Installing collected packages: pypotree\n",
            "Successfully installed pypotree-1.0.5\n"
          ]
        }
      ]
    },
    {
      "cell_type": "code",
      "source": [
        "import pypotree\n",
        "import numpy as np\n",
        "\n",
        "# trivial point cloud\n",
        "#xyz = np.random.randn(100000,3)\n",
        "\n",
        "# fancy point cloud\n",
        "XX,YY = np.meshgrid(range(2000), range(2000))\n",
        "ZZ = XX.flatten()/100 * YY.flatten()/100* (np.sin( XX.flatten()/10)  + np.sin(YY.flatten()/10 ) )\n",
        "xyz = list(zip(XX.flatten()*10, YY.flatten()*10, ZZ.flatten()))\n",
        "\n",
        "#xyz[:,1]=0\n",
        "cloudpath = pypotree.generate_cloud_for_display(xyz)\n",
        "\n",
        "print (cloudpath)"
      ],
      "metadata": {
        "colab": {
          "base_uri": "https://localhost:8080/"
        },
        "id": "NMhN31ZzY0uK",
        "outputId": "c09d6c08-9ddb-42cb-fa14-31bb6759bd24"
      },
      "execution_count": 3,
      "outputs": [
        {
          "output_type": "stream",
          "name": "stdout",
          "text": [
            "/usr/local/lib/python3.10/dist-packages/bin/PotreeConverter .tmp.txt -f xyz -o point_clouds -p 9431d8 --material ELEVATION --edl-enabled --overwrite\n",
            "9431d8\n"
          ]
        }
      ]
    },
    {
      "cell_type": "code",
      "source": [
        "pypotree.display_cloud_colab(cloudpath)"
      ],
      "metadata": {
        "id": "TibGR5WKcDiW"
      },
      "execution_count": null,
      "outputs": []
    },
    {
      "cell_type": "markdown",
      "source": [
        "#外部で作ったデータから３D表示\n",
        "\n",
        "[参考サイト](https://hackmd.io/@geopythonjp/BJSwJc0w9)"
      ],
      "metadata": {
        "id": "BnuMTZe6Y_bj"
      }
    },
    {
      "cell_type": "code",
      "source": [
        "#参考サイトから点群データのテキストファイルをダウンロードしてcolabにアップロード\n",
        "\n",
        "import pypotree\n",
        "import numpy as np\n",
        "import pandas\n",
        "input_path=\"/content/08OF4060_3.txt\"\n",
        "df_xyz = pandas.read_table(input_path, sep='\\s+', header=None)\n",
        "print(df_xyz.head(5))"
      ],
      "metadata": {
        "colab": {
          "base_uri": "https://localhost:8080/"
        },
        "id": "GOaVLgSXYvy3",
        "outputId": "4ae49e66-3511-4dc0-8976-16ddf8835d7f"
      },
      "execution_count": 9,
      "outputs": [
        {
          "output_type": "stream",
          "name": "stdout",
          "text": [
            "             0           1           2    3    4    5     6    7    8    9   \\\n",
            "0  40372.682996 -134099.998  187.891000  245  210  129  12.0  1.0  1.0  1.0   \n",
            "1  40372.552014 -134099.999  187.898000  255  251  129  12.0  1.0  1.0  1.0   \n",
            "2  40372.421002 -134099.998  187.909999  254  254  254  12.0  1.0  1.0  1.0   \n",
            "3  40372.292004 -134099.999  187.914001  254  254  254  12.0  1.0  1.0  1.0   \n",
            "4  40372.595013 -134099.906  187.901000  139  121  101  12.0  1.0  1.0  1.0   \n",
            "\n",
            "    10   11             12       13   14  \n",
            "0  1.0  1.0  434214.585518  16842.0  2.0  \n",
            "1  1.0  1.0  434214.590432  19988.0  2.0  \n",
            "2  1.0  1.0  434214.595347  24231.0  2.0  \n",
            "3  1.0  1.0  434214.600260  24936.0  2.0  \n",
            "4  1.0  1.0  434214.600297  16285.0  2.0  \n"
          ]
        }
      ]
    },
    {
      "cell_type": "code",
      "source": [
        "df_xyz = df_xyz.iloc[:,0:3]\n",
        "xyz = df_xyz.to_numpy().tolist()\n",
        "# xyz"
      ],
      "metadata": {
        "id": "q8ZzqVbGYyKe"
      },
      "execution_count": 10,
      "outputs": []
    },
    {
      "cell_type": "code",
      "source": [
        "cloudpath = pypotree.generate_cloud_for_display(xyz)\n",
        "pypotree.display_cloud_colab(cloudpath)"
      ],
      "metadata": {
        "id": "WIPJhd5ucFJz"
      },
      "execution_count": null,
      "outputs": []
    }
  ]
}