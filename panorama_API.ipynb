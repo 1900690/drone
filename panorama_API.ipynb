{
  "nbformat": 4,
  "nbformat_minor": 0,
  "metadata": {
    "colab": {
      "provenance": [],
      "authorship_tag": "ABX9TyMV2VqrF79obpcXzumumbWv",
      "include_colab_link": true
    },
    "kernelspec": {
      "name": "python3",
      "display_name": "Python 3"
    },
    "language_info": {
      "name": "python"
    }
  },
  "cells": [
    {
      "cell_type": "markdown",
      "metadata": {
        "id": "view-in-github",
        "colab_type": "text"
      },
      "source": [
        "<a href=\"https://colab.research.google.com/github/1900690/drone/blob/main/panorama_API.ipynb\" target=\"_parent\"><img src=\"https://colab.research.google.com/assets/colab-badge.svg\" alt=\"Open In Colab\"/></a>"
      ]
    },
    {
      "cell_type": "code",
      "execution_count": null,
      "metadata": {
        "id": "9B8bV52g0HZ9"
      },
      "outputs": [],
      "source": [
        "import cv2 as cv\n",
        "\n",
        "imgs = []\n",
        "imgs.append(cv.imread('Blender_Suzanne1.jpg'))\n",
        "imgs.append(cv.imread('Blender_Suzanne2.jpg'))\n",
        "# imgs.append(cv.imread('original_image_left.jpg'))\n",
        "# imgs.append(cv.imread('original_image_right.jpg'))\n",
        "\n",
        "stitcher = cv.Stitcher_create() # opencv4\n",
        "# stitcher = cv.createStitcher(True) # opencv3\n",
        "\n",
        "stitched = stitcher.stitch(imgs)[1]\n",
        "cv.imshow('stitched', stitched)\n",
        "cv.waitKey(0)"
      ]
    }
  ]
}