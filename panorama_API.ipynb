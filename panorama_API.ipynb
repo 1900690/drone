{
  "nbformat": 4,
  "nbformat_minor": 0,
  "metadata": {
    "colab": {
      "provenance": [],
      "include_colab_link": true
    },
    "kernelspec": {
      "name": "python3",
      "display_name": "Python 3"
    },
    "language_info": {
      "name": "python"
    }
  },
  "cells": [
    {
      "cell_type": "markdown",
      "metadata": {
        "id": "view-in-github",
        "colab_type": "text"
      },
      "source": [
        "<a href=\"https://colab.research.google.com/github/1900690/drone/blob/main/panorama_API.ipynb\" target=\"_parent\"><img src=\"https://colab.research.google.com/assets/colab-badge.svg\" alt=\"Open In Colab\"/></a>"
      ]
    },
    {
      "cell_type": "code",
      "source": [
        "from google.colab import drive\n",
        "drive.mount('/content/drive')"
      ],
      "metadata": {
        "id": "Hp42CF0kCZ0k",
        "outputId": "38ca2153-f536-4073-b0dc-bb56508404ec",
        "colab": {
          "base_uri": "https://localhost:8080/"
        }
      },
      "execution_count": 2,
      "outputs": [
        {
          "output_type": "stream",
          "name": "stdout",
          "text": [
            "Mounted at /content/drive\n"
          ]
        }
      ]
    },
    {
      "cell_type": "code",
      "source": [
        "import shutil\n",
        "shutil.copytree('/content/drive/MyDrive/ドローン画像/20230830', '/content/image', dirs_exist_ok=True)"
      ],
      "metadata": {
        "id": "z404avkaDA4U",
        "outputId": "a493f737-87e9-4141-aa76-4eeaf26532d3",
        "colab": {
          "base_uri": "https://localhost:8080/",
          "height": 35
        }
      },
      "execution_count": 3,
      "outputs": [
        {
          "output_type": "execute_result",
          "data": {
            "text/plain": [
              "'/content/image'"
            ],
            "application/vnd.google.colaboratory.intrinsic+json": {
              "type": "string"
            }
          },
          "metadata": {},
          "execution_count": 3
        }
      ]
    },
    {
      "cell_type": "markdown",
      "source": [
        "#GCP設定なし"
      ],
      "metadata": {
        "id": "oFVTI65V1LE6"
      }
    },
    {
      "cell_type": "code",
      "source": [
        "#画像を入れるフォルダを作成\n",
        "import os\n",
        "SAVE_NAME = 'image'\n",
        "if not os.path.exists('/content/' +SAVE_NAME):\n",
        "    os.mkdir('/content/' +SAVE_NAME)"
      ],
      "metadata": {
        "id": "0Nj2K0Kl1_3k"
      },
      "execution_count": null,
      "outputs": []
    },
    {
      "cell_type": "code",
      "execution_count": null,
      "metadata": {
        "id": "9B8bV52g0HZ9"
      },
      "outputs": [],
      "source": [
        "import cv2\n",
        "from google.colab.patches import cv2_imshow\n",
        "import glob\n",
        "import os\n",
        "\n",
        "#階層移動\n",
        "os.chdir(\"/content/image\")\n",
        "#階層内のPathを全取得\n",
        "path = glob.glob(\"*\")\n",
        "os.chdir(\"/content\")\n",
        "\n",
        "imgs = []\n",
        "for path_name in path:\n",
        "  imgs.append(cv2.imread('/content/image/'+path_name))\n",
        "\n",
        "stitcher = cv2.Stitcher_create()\n",
        "stitched = stitcher.stitch(imgs)[1]\n",
        "\n",
        "cv2_imshow(stitched)\n",
        "cv2.imwrite(\"/content/result.jpg\", stitched)"
      ]
    }
  ]
}